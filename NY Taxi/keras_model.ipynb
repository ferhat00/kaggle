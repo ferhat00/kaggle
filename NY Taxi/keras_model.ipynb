{
 "cells": [
  {
   "cell_type": "markdown",
   "metadata": {
    "_uuid": "3d7ff0f55d73bdf321e790575ef09eb0c27ae94b"
   },
   "source": [
    "### This is an adaptation of the Coursera code (originally built with tensorflow), on this one i used Keras to make the model part simpler, maybe it can help people that are new to deep learning or anyone else that want to use Keras on this competition.\n",
    "\n",
    "#### Notes: \n",
    "* [Link for a tensorflow version](https://www.kaggle.com/dimitreoliveira/tensorflow-dnn-coursera-ml-course-code)\n",
    "* [Link for a more complete version on Github](https://github.com/dimitreOliveira/NewYorkCityTaxiFare)\n",
    "* I'm not using \"passenger count\" because it something that is not supposed to really matter in this case.\n",
    "* I've created two features derived from \"hour\" (night and late night), according to some research i did it's added an additional value if it's a business day (mon ~ fri), and it's night, also there's another added value if it's dawn.\n",
    "* I'm binning latitudes and longitudes to make it easier to work with.\n",
    "* Even tough deep learning is robust enough to deal with noisy data, i'm removing outliers (it may save some memory).\n",
    "* Currently i'm using both Euclidean and Manhattan distances, it may be a bit redundant, but they have a different meaning and i'm still not sure of witch one is better(if you have some insights about this please let me know)"
   ]
  },
  {
   "cell_type": "markdown",
   "metadata": {
    "_uuid": "202e10c43907e5fdc7264a2c328aa0a53ed73a10"
   },
   "source": [
    "### Dependencies"
   ]
  },
  {
   "cell_type": "code",
   "execution_count": 1,
   "metadata": {
    "_cell_guid": "b1076dfc-b9ad-4769-8c92-a6c4dae69d19",
    "_kg_hide-input": true,
    "_kg_hide-output": true,
    "_uuid": "8f2839f25d086af736a60e9eeb907d3b93b6e0e5"
   },
   "outputs": [
    {
     "name": "stderr",
     "output_type": "stream",
     "text": [
      "Using TensorFlow backend.\n"
     ]
    }
   ],
   "source": [
    "import numpy as np\n",
    "import pandas as pd\n",
    "from datetime import datetime\n",
    "import matplotlib.pyplot as plt\n",
    "from sklearn import preprocessing\n",
    "from sklearn.model_selection import train_test_split\n",
    "from keras.models import Sequential\n",
    "from keras.layers import Dense, Dropout, BatchNormalization\n",
    "from keras.callbacks import EarlyStopping\n",
    "from keras import optimizers\n",
    "from keras import regularizers"
   ]
  },
  {
   "cell_type": "markdown",
   "metadata": {
    "_uuid": "e2f2e006756ff46df570d539cc3976520d530cb6"
   },
   "source": [
    "## Data clean\n",
    "### Here i'm removing some outliers, and noisy data.\n",
    "* Lats and lons that do not belong to New York.\n",
    "* Negative fare.\n",
    "* Fare greater than 250 (this seems to be noisy data).\n",
    "* Rides that begin and end in the same location."
   ]
  },
  {
   "cell_type": "code",
   "execution_count": 2,
   "metadata": {
    "_uuid": "716e84668e42e06342b58423ea1f64a319d05f62"
   },
   "outputs": [],
   "source": [
    "def clean(df):\n",
    "    # Delimiter lats and lons to NY only\n",
    "    df = df[(-76 <= df['pickup_longitude']) & (df['pickup_longitude'] <= -72)]\n",
    "    df = df[(-76 <= df['dropoff_longitude']) & (df['dropoff_longitude'] <= -72)]\n",
    "    df = df[(38 <= df['pickup_latitude']) & (df['pickup_latitude'] <= 42)]\n",
    "    df = df[(38 <= df['dropoff_latitude']) & (df['dropoff_latitude'] <= 42)]\n",
    "    # Remove possible outliers\n",
    "    df = df[(0 < df['fare_amount']) & (df['fare_amount'] <= 250)]\n",
    "    # Remove inconsistent values\n",
    "    df = df[(df['dropoff_longitude'] != df['pickup_longitude'])]\n",
    "    df = df[(df['dropoff_latitude'] != df['pickup_latitude'])]\n",
    "    \n",
    "    return df"
   ]
  },
  {
   "cell_type": "markdown",
   "metadata": {
    "_uuid": "12bb5164c954464788a0b26afb62d13f8a5f868c"
   },
   "source": [
    "## Feature engineering\n",
    "*  Now i'll do some feature engineering and process the data, i'm basically creating 3 kinds of features.\n",
    "    *  **Time features**\n",
    "        * Year, Month, Day, Hour, Weekday\n",
    "        * Night (between 16h and 20h, from monday to friday)\n",
    "        * Late night (between 20h and and 6h)\n",
    "    * **Coordinate features**\n",
    "        * Latitude difference (difference from pickup and dropout latitudes)\n",
    "        * Longitude difference (difference from pickup and dropout longitudes)\n",
    "    * **Distances features**\n",
    "        * Euclidean (Euclidean distance from pickup and dropout)\n",
    "        * Manhattan (Manhattan distance from pickup and dropout)\n",
    "        * Manhattan distances from pickup location and downtown, JFK, EWR and LGR airports (see if the ride started at one of these locations).\n",
    "        * Manhattan distances from dropout location and downtown, JFK, EWR and LGR airports (see if the ride ended at one of these locations)."
   ]
  },
  {
   "cell_type": "code",
   "execution_count": 3,
   "metadata": {
    "_cell_guid": "79c7e3d0-c299-4dcb-8224-4455121ee9b0",
    "_uuid": "d629ff2d2480ee46fbb7e2d37f6b5fab8052498a"
   },
   "outputs": [],
   "source": [
    "def late_night (row):\n",
    "    if (row['hour'] <= 6) or (row['hour'] >= 20):\n",
    "        return 1\n",
    "    else:\n",
    "        return 0\n",
    "\n",
    "\n",
    "def night (row):\n",
    "    if ((row['hour'] <= 20) and (row['hour'] >= 16)) and (row['weekday'] < 5):\n",
    "        return 1\n",
    "    else:\n",
    "        return 0\n",
    "    \n",
    "    \n",
    "def manhattan(pickup_lat, pickup_long, dropoff_lat, dropoff_long):\n",
    "    return np.abs(dropoff_lat - pickup_lat) + np.abs(dropoff_long - pickup_long)\n",
    "\n",
    "\n",
    "def add_time_features(df):\n",
    "    df['pickup_datetime'] =  pd.to_datetime(df['pickup_datetime'], format='%Y-%m-%d %H:%M:%S %Z')\n",
    "    df['year'] = df['pickup_datetime'].apply(lambda x: x.year)\n",
    "    df['month'] = df['pickup_datetime'].apply(lambda x: x.month)\n",
    "    df['day'] = df['pickup_datetime'].apply(lambda x: x.day)\n",
    "    df['hour'] = df['pickup_datetime'].apply(lambda x: x.hour)\n",
    "    df['weekday'] = df['pickup_datetime'].apply(lambda x: x.weekday())\n",
    "    df['pickup_datetime'] =  df['pickup_datetime'].apply(lambda x: str(x))\n",
    "    df['night'] = df.apply (lambda x: night(x), axis=1)\n",
    "    df['late_night'] = df.apply (lambda x: late_night(x), axis=1)\n",
    "    # Drop 'pickup_datetime' as we won't need it anymore\n",
    "    df = df.drop('pickup_datetime', axis=1)\n",
    "    \n",
    "    return df\n",
    "\n",
    "\n",
    "def add_coordinate_features(df):\n",
    "    lat1 = df['pickup_latitude']\n",
    "    lat2 = df['dropoff_latitude']\n",
    "    lon1 = df['pickup_longitude']\n",
    "    lon2 = df['dropoff_longitude']\n",
    "    \n",
    "    # Add new features\n",
    "    df['latdiff'] = (lat1 - lat2)\n",
    "    df['londiff'] = (lon1 - lon2)\n",
    "\n",
    "    return df\n",
    "\n",
    "\n",
    "def add_distances_features(df):\n",
    "    # Add distances from airpot and downtown\n",
    "    ny = (-74.0063889, 40.7141667)\n",
    "    jfk = (-73.7822222222, 40.6441666667)\n",
    "    ewr = (-74.175, 40.69)\n",
    "    lgr = (-73.87, 40.77)\n",
    "    \n",
    "    lat1 = df['pickup_latitude']\n",
    "    lat2 = df['dropoff_latitude']\n",
    "    lon1 = df['pickup_longitude']\n",
    "    lon2 = df['dropoff_longitude']\n",
    "    \n",
    "    df['euclidean'] = (df['latdiff'] ** 2 + df['londiff'] ** 2) ** 0.5\n",
    "    df['manhattan'] = manhattan(lat1, lon1, lat2, lon2)\n",
    "    \n",
    "    df['downtown_pickup_distance'] = manhattan(ny[1], ny[0], lat1, lon1)\n",
    "    df['downtown_dropoff_distance'] = manhattan(ny[1], ny[0], lat2, lon2)\n",
    "    df['jfk_pickup_distance'] = manhattan(jfk[1], jfk[0], lat1, lon1)\n",
    "    df['jfk_dropoff_distance'] = manhattan(jfk[1], jfk[0], lat2, lon2)\n",
    "    df['ewr_pickup_distance'] = manhattan(ewr[1], ewr[0], lat1, lon1)\n",
    "    df['ewr_dropoff_distance'] = manhattan(ewr[1], ewr[0], lat2, lon2)\n",
    "    df['lgr_pickup_distance'] = manhattan(lgr[1], lgr[0], lat1, lon1)\n",
    "    df['lgr_dropoff_distance'] = manhattan(lgr[1], lgr[0], lat2, lon2)\n",
    "    \n",
    "    return df"
   ]
  },
  {
   "cell_type": "markdown",
   "metadata": {
    "_uuid": "a098dcf43d5c5f8bbe1dbd6e89f797160f8173d5"
   },
   "source": [
    "### Auxiliar functions"
   ]
  },
  {
   "cell_type": "code",
   "execution_count": 4,
   "metadata": {
    "_uuid": "646281e5cb269122cfe005191271d57bdcf42a96"
   },
   "outputs": [],
   "source": [
    "def output_submission(raw_test, prediction, id_column, prediction_column, file_name):\n",
    "    df = pd.DataFrame(prediction, columns=[prediction_column])\n",
    "    df[id_column] = raw_test[id_column]\n",
    "    df[[id_column, prediction_column]].to_csv((file_name), index=False)\n",
    "    print('Output complete')\n",
    "    \n",
    "    \n",
    "def plot_loss_accuracy(history):\n",
    "    plt.figure(figsize=(20,10))\n",
    "    plt.plot(history.history['loss'])\n",
    "    plt.plot(history.history['val_loss'])\n",
    "    plt.title('model loss')\n",
    "    plt.ylabel('loss')\n",
    "    plt.xlabel('epoch')\n",
    "    plt.legend(['train', 'test'], loc='upper right')\n",
    "    plt.show()"
   ]
  },
  {
   "cell_type": "markdown",
   "metadata": {
    "_uuid": "6f26c4a260b408ffbd1e881d205eb7145a1e37ce"
   },
   "source": [
    "### Parameters"
   ]
  },
  {
   "cell_type": "code",
   "execution_count": 5,
   "metadata": {
    "_uuid": "a67bbf9dc5b0caab8d964837c072b229b6224a5a"
   },
   "outputs": [],
   "source": [
    "TRAIN_PATH = 'train.csv'\n",
    "TEST_PATH = 'test.csv'\n",
    "SUBMISSION_NAME = 'submission_keras.csv'\n",
    "\n",
    "# Model parameters\n",
    "BATCH_SIZE = 256\n",
    "EPOCHS = 50\n",
    "LEARNING_RATE = 0.001\n",
    "DATASET_SIZE = 6000000"
   ]
  },
  {
   "cell_type": "markdown",
   "metadata": {
    "_uuid": "d6e4c15bf38a9f2606d0fb2f65f152eaee7912df"
   },
   "source": [
    "### Load data"
   ]
  },
  {
   "cell_type": "code",
   "execution_count": 6,
   "metadata": {
    "_uuid": "99506a559b162562260d3e347558249c0ed85b7f"
   },
   "outputs": [],
   "source": [
    "# Load values in a more compact form\n",
    "datatypes = {'key': 'str', \n",
    "              'fare_amount': 'float32',\n",
    "              'pickup_datetime': 'str', \n",
    "              'pickup_longitude': 'float32',\n",
    "              'pickup_latitude': 'float32',\n",
    "              'dropoff_longitude': 'float32',\n",
    "              'dropoff_latitude': 'float32',\n",
    "              'passenger_count': 'uint8'}\n",
    "\n",
    "# Only a fraction of the whole data\n",
    "train = pd.read_csv(TRAIN_PATH, nrows=DATASET_SIZE, dtype=datatypes, usecols=[1,2,3,4,5,6])\n",
    "test = pd.read_csv(TEST_PATH)"
   ]
  },
  {
   "cell_type": "markdown",
   "metadata": {
    "_uuid": "8f7c8d4f7d38887e62deb95d0c5be74975ab22f0"
   },
   "source": [
    "#### Clean and process data"
   ]
  },
  {
   "cell_type": "code",
   "execution_count": 7,
   "metadata": {
    "_uuid": "061247c80aa6f3a443a59bd7736de33985cd1a7b"
   },
   "outputs": [
    {
     "data": {
      "text/html": [
       "<div>\n",
       "<style scoped>\n",
       "    .dataframe tbody tr th:only-of-type {\n",
       "        vertical-align: middle;\n",
       "    }\n",
       "\n",
       "    .dataframe tbody tr th {\n",
       "        vertical-align: top;\n",
       "    }\n",
       "\n",
       "    .dataframe thead th {\n",
       "        text-align: right;\n",
       "    }\n",
       "</style>\n",
       "<table border=\"1\" class=\"dataframe\">\n",
       "  <thead>\n",
       "    <tr style=\"text-align: right;\">\n",
       "      <th></th>\n",
       "      <th>fare_amount</th>\n",
       "      <th>pickup_longitude</th>\n",
       "      <th>pickup_latitude</th>\n",
       "      <th>dropoff_longitude</th>\n",
       "      <th>dropoff_latitude</th>\n",
       "      <th>year</th>\n",
       "      <th>month</th>\n",
       "      <th>day</th>\n",
       "      <th>hour</th>\n",
       "      <th>weekday</th>\n",
       "      <th>...</th>\n",
       "      <th>euclidean</th>\n",
       "      <th>manhattan</th>\n",
       "      <th>downtown_pickup_distance</th>\n",
       "      <th>downtown_dropoff_distance</th>\n",
       "      <th>jfk_pickup_distance</th>\n",
       "      <th>jfk_dropoff_distance</th>\n",
       "      <th>ewr_pickup_distance</th>\n",
       "      <th>ewr_dropoff_distance</th>\n",
       "      <th>lgr_pickup_distance</th>\n",
       "      <th>lgr_dropoff_distance</th>\n",
       "    </tr>\n",
       "  </thead>\n",
       "  <tbody>\n",
       "    <tr>\n",
       "      <th>0</th>\n",
       "      <td>4.5</td>\n",
       "      <td>-73.844315</td>\n",
       "      <td>40.721317</td>\n",
       "      <td>-73.841614</td>\n",
       "      <td>40.712276</td>\n",
       "      <td>2009</td>\n",
       "      <td>6</td>\n",
       "      <td>15</td>\n",
       "      <td>17</td>\n",
       "      <td>0</td>\n",
       "      <td>...</td>\n",
       "      <td>0.009436</td>\n",
       "      <td>0.011742</td>\n",
       "      <td>0.169225</td>\n",
       "      <td>0.166665</td>\n",
       "      <td>0.139243</td>\n",
       "      <td>0.127501</td>\n",
       "      <td>0.362003</td>\n",
       "      <td>0.355663</td>\n",
       "      <td>0.074368</td>\n",
       "      <td>0.086110</td>\n",
       "    </tr>\n",
       "    <tr>\n",
       "      <th>1</th>\n",
       "      <td>16.9</td>\n",
       "      <td>-74.016045</td>\n",
       "      <td>40.711304</td>\n",
       "      <td>-73.979271</td>\n",
       "      <td>40.782005</td>\n",
       "      <td>2010</td>\n",
       "      <td>1</td>\n",
       "      <td>5</td>\n",
       "      <td>16</td>\n",
       "      <td>1</td>\n",
       "      <td>...</td>\n",
       "      <td>0.079693</td>\n",
       "      <td>0.107475</td>\n",
       "      <td>0.012519</td>\n",
       "      <td>0.094957</td>\n",
       "      <td>0.300959</td>\n",
       "      <td>0.334887</td>\n",
       "      <td>0.180259</td>\n",
       "      <td>0.287734</td>\n",
       "      <td>0.204741</td>\n",
       "      <td>0.121276</td>\n",
       "    </tr>\n",
       "    <tr>\n",
       "      <th>2</th>\n",
       "      <td>5.7</td>\n",
       "      <td>-73.982735</td>\n",
       "      <td>40.761269</td>\n",
       "      <td>-73.991241</td>\n",
       "      <td>40.750561</td>\n",
       "      <td>2011</td>\n",
       "      <td>8</td>\n",
       "      <td>18</td>\n",
       "      <td>0</td>\n",
       "      <td>3</td>\n",
       "      <td>...</td>\n",
       "      <td>0.013676</td>\n",
       "      <td>0.019215</td>\n",
       "      <td>0.070756</td>\n",
       "      <td>0.051542</td>\n",
       "      <td>0.317614</td>\n",
       "      <td>0.315413</td>\n",
       "      <td>0.263534</td>\n",
       "      <td>0.244319</td>\n",
       "      <td>0.121466</td>\n",
       "      <td>0.140681</td>\n",
       "    </tr>\n",
       "    <tr>\n",
       "      <th>3</th>\n",
       "      <td>7.7</td>\n",
       "      <td>-73.987129</td>\n",
       "      <td>40.733143</td>\n",
       "      <td>-73.991570</td>\n",
       "      <td>40.758091</td>\n",
       "      <td>2012</td>\n",
       "      <td>4</td>\n",
       "      <td>21</td>\n",
       "      <td>4</td>\n",
       "      <td>5</td>\n",
       "      <td>...</td>\n",
       "      <td>0.025340</td>\n",
       "      <td>0.029388</td>\n",
       "      <td>0.038236</td>\n",
       "      <td>0.058744</td>\n",
       "      <td>0.293883</td>\n",
       "      <td>0.323272</td>\n",
       "      <td>0.231014</td>\n",
       "      <td>0.251521</td>\n",
       "      <td>0.153986</td>\n",
       "      <td>0.133479</td>\n",
       "    </tr>\n",
       "    <tr>\n",
       "      <th>4</th>\n",
       "      <td>5.3</td>\n",
       "      <td>-73.968094</td>\n",
       "      <td>40.768009</td>\n",
       "      <td>-73.956657</td>\n",
       "      <td>40.783764</td>\n",
       "      <td>2010</td>\n",
       "      <td>3</td>\n",
       "      <td>9</td>\n",
       "      <td>7</td>\n",
       "      <td>1</td>\n",
       "      <td>...</td>\n",
       "      <td>0.019468</td>\n",
       "      <td>0.027191</td>\n",
       "      <td>0.092138</td>\n",
       "      <td>0.119329</td>\n",
       "      <td>0.309714</td>\n",
       "      <td>0.314032</td>\n",
       "      <td>0.284915</td>\n",
       "      <td>0.312106</td>\n",
       "      <td>0.100085</td>\n",
       "      <td>0.100421</td>\n",
       "    </tr>\n",
       "  </tbody>\n",
       "</table>\n",
       "<p>5 rows × 24 columns</p>\n",
       "</div>"
      ],
      "text/plain": [
       "   fare_amount  pickup_longitude  pickup_latitude  dropoff_longitude  \\\n",
       "0          4.5        -73.844315        40.721317         -73.841614   \n",
       "1         16.9        -74.016045        40.711304         -73.979271   \n",
       "2          5.7        -73.982735        40.761269         -73.991241   \n",
       "3          7.7        -73.987129        40.733143         -73.991570   \n",
       "4          5.3        -73.968094        40.768009         -73.956657   \n",
       "\n",
       "   dropoff_latitude  year  month  day  hour  weekday          ...           \\\n",
       "0         40.712276  2009      6   15    17        0          ...            \n",
       "1         40.782005  2010      1    5    16        1          ...            \n",
       "2         40.750561  2011      8   18     0        3          ...            \n",
       "3         40.758091  2012      4   21     4        5          ...            \n",
       "4         40.783764  2010      3    9     7        1          ...            \n",
       "\n",
       "   euclidean  manhattan  downtown_pickup_distance  downtown_dropoff_distance  \\\n",
       "0   0.009436   0.011742                  0.169225                   0.166665   \n",
       "1   0.079693   0.107475                  0.012519                   0.094957   \n",
       "2   0.013676   0.019215                  0.070756                   0.051542   \n",
       "3   0.025340   0.029388                  0.038236                   0.058744   \n",
       "4   0.019468   0.027191                  0.092138                   0.119329   \n",
       "\n",
       "   jfk_pickup_distance  jfk_dropoff_distance  ewr_pickup_distance  \\\n",
       "0             0.139243              0.127501             0.362003   \n",
       "1             0.300959              0.334887             0.180259   \n",
       "2             0.317614              0.315413             0.263534   \n",
       "3             0.293883              0.323272             0.231014   \n",
       "4             0.309714              0.314032             0.284915   \n",
       "\n",
       "   ewr_dropoff_distance  lgr_pickup_distance  lgr_dropoff_distance  \n",
       "0              0.355663             0.074368              0.086110  \n",
       "1              0.287734             0.204741              0.121276  \n",
       "2              0.244319             0.121466              0.140681  \n",
       "3              0.251521             0.153986              0.133479  \n",
       "4              0.312106             0.100085              0.100421  \n",
       "\n",
       "[5 rows x 24 columns]"
      ]
     },
     "execution_count": 7,
     "metadata": {},
     "output_type": "execute_result"
    }
   ],
   "source": [
    "train = clean(train)\n",
    "\n",
    "train = add_time_features(train)\n",
    "test = add_time_features(test)\n",
    "\n",
    "add_coordinate_features(train)\n",
    "add_coordinate_features(test)\n",
    "\n",
    "train = add_distances_features(train)\n",
    "test = add_distances_features(test)\n",
    "\n",
    "train.head(5)"
   ]
  },
  {
   "cell_type": "code",
   "execution_count": 8,
   "metadata": {
    "_uuid": "b06b6025ec3822623a120c06170e74161f0f7262"
   },
   "outputs": [
    {
     "data": {
      "text/html": [
       "<div>\n",
       "<style scoped>\n",
       "    .dataframe tbody tr th:only-of-type {\n",
       "        vertical-align: middle;\n",
       "    }\n",
       "\n",
       "    .dataframe tbody tr th {\n",
       "        vertical-align: top;\n",
       "    }\n",
       "\n",
       "    .dataframe thead th {\n",
       "        text-align: right;\n",
       "    }\n",
       "</style>\n",
       "<table border=\"1\" class=\"dataframe\">\n",
       "  <thead>\n",
       "    <tr style=\"text-align: right;\">\n",
       "      <th></th>\n",
       "      <th>fare_amount</th>\n",
       "      <th>year</th>\n",
       "      <th>month</th>\n",
       "      <th>day</th>\n",
       "      <th>hour</th>\n",
       "      <th>weekday</th>\n",
       "      <th>night</th>\n",
       "      <th>late_night</th>\n",
       "      <th>latdiff</th>\n",
       "      <th>londiff</th>\n",
       "      <th>euclidean</th>\n",
       "      <th>manhattan</th>\n",
       "      <th>downtown_pickup_distance</th>\n",
       "      <th>downtown_dropoff_distance</th>\n",
       "      <th>jfk_pickup_distance</th>\n",
       "      <th>jfk_dropoff_distance</th>\n",
       "      <th>ewr_pickup_distance</th>\n",
       "      <th>ewr_dropoff_distance</th>\n",
       "      <th>lgr_pickup_distance</th>\n",
       "      <th>lgr_dropoff_distance</th>\n",
       "    </tr>\n",
       "  </thead>\n",
       "  <tbody>\n",
       "    <tr>\n",
       "      <th>0</th>\n",
       "      <td>4.5</td>\n",
       "      <td>2009</td>\n",
       "      <td>6</td>\n",
       "      <td>15</td>\n",
       "      <td>17</td>\n",
       "      <td>0</td>\n",
       "      <td>1</td>\n",
       "      <td>0</td>\n",
       "      <td>0.009041</td>\n",
       "      <td>-0.002701</td>\n",
       "      <td>0.009436</td>\n",
       "      <td>0.011742</td>\n",
       "      <td>0.169225</td>\n",
       "      <td>0.166665</td>\n",
       "      <td>0.139243</td>\n",
       "      <td>0.127501</td>\n",
       "      <td>0.362003</td>\n",
       "      <td>0.355663</td>\n",
       "      <td>0.074368</td>\n",
       "      <td>0.086110</td>\n",
       "    </tr>\n",
       "    <tr>\n",
       "      <th>1</th>\n",
       "      <td>16.9</td>\n",
       "      <td>2010</td>\n",
       "      <td>1</td>\n",
       "      <td>5</td>\n",
       "      <td>16</td>\n",
       "      <td>1</td>\n",
       "      <td>1</td>\n",
       "      <td>0</td>\n",
       "      <td>-0.070702</td>\n",
       "      <td>-0.036774</td>\n",
       "      <td>0.079693</td>\n",
       "      <td>0.107475</td>\n",
       "      <td>0.012519</td>\n",
       "      <td>0.094957</td>\n",
       "      <td>0.300959</td>\n",
       "      <td>0.334887</td>\n",
       "      <td>0.180259</td>\n",
       "      <td>0.287734</td>\n",
       "      <td>0.204741</td>\n",
       "      <td>0.121276</td>\n",
       "    </tr>\n",
       "    <tr>\n",
       "      <th>2</th>\n",
       "      <td>5.7</td>\n",
       "      <td>2011</td>\n",
       "      <td>8</td>\n",
       "      <td>18</td>\n",
       "      <td>0</td>\n",
       "      <td>3</td>\n",
       "      <td>0</td>\n",
       "      <td>1</td>\n",
       "      <td>0.010708</td>\n",
       "      <td>0.008507</td>\n",
       "      <td>0.013676</td>\n",
       "      <td>0.019215</td>\n",
       "      <td>0.070756</td>\n",
       "      <td>0.051542</td>\n",
       "      <td>0.317614</td>\n",
       "      <td>0.315413</td>\n",
       "      <td>0.263534</td>\n",
       "      <td>0.244319</td>\n",
       "      <td>0.121466</td>\n",
       "      <td>0.140681</td>\n",
       "    </tr>\n",
       "    <tr>\n",
       "      <th>3</th>\n",
       "      <td>7.7</td>\n",
       "      <td>2012</td>\n",
       "      <td>4</td>\n",
       "      <td>21</td>\n",
       "      <td>4</td>\n",
       "      <td>5</td>\n",
       "      <td>0</td>\n",
       "      <td>1</td>\n",
       "      <td>-0.024948</td>\n",
       "      <td>0.004440</td>\n",
       "      <td>0.025340</td>\n",
       "      <td>0.029388</td>\n",
       "      <td>0.038236</td>\n",
       "      <td>0.058744</td>\n",
       "      <td>0.293883</td>\n",
       "      <td>0.323272</td>\n",
       "      <td>0.231014</td>\n",
       "      <td>0.251521</td>\n",
       "      <td>0.153986</td>\n",
       "      <td>0.133479</td>\n",
       "    </tr>\n",
       "    <tr>\n",
       "      <th>4</th>\n",
       "      <td>5.3</td>\n",
       "      <td>2010</td>\n",
       "      <td>3</td>\n",
       "      <td>9</td>\n",
       "      <td>7</td>\n",
       "      <td>1</td>\n",
       "      <td>0</td>\n",
       "      <td>0</td>\n",
       "      <td>-0.015755</td>\n",
       "      <td>-0.011436</td>\n",
       "      <td>0.019468</td>\n",
       "      <td>0.027191</td>\n",
       "      <td>0.092138</td>\n",
       "      <td>0.119329</td>\n",
       "      <td>0.309714</td>\n",
       "      <td>0.314032</td>\n",
       "      <td>0.284915</td>\n",
       "      <td>0.312106</td>\n",
       "      <td>0.100085</td>\n",
       "      <td>0.100421</td>\n",
       "    </tr>\n",
       "  </tbody>\n",
       "</table>\n",
       "</div>"
      ],
      "text/plain": [
       "   fare_amount  year  month  day  hour  weekday  night  late_night   latdiff  \\\n",
       "0          4.5  2009      6   15    17        0      1           0  0.009041   \n",
       "1         16.9  2010      1    5    16        1      1           0 -0.070702   \n",
       "2          5.7  2011      8   18     0        3      0           1  0.010708   \n",
       "3          7.7  2012      4   21     4        5      0           1 -0.024948   \n",
       "4          5.3  2010      3    9     7        1      0           0 -0.015755   \n",
       "\n",
       "    londiff  euclidean  manhattan  downtown_pickup_distance  \\\n",
       "0 -0.002701   0.009436   0.011742                  0.169225   \n",
       "1 -0.036774   0.079693   0.107475                  0.012519   \n",
       "2  0.008507   0.013676   0.019215                  0.070756   \n",
       "3  0.004440   0.025340   0.029388                  0.038236   \n",
       "4 -0.011436   0.019468   0.027191                  0.092138   \n",
       "\n",
       "   downtown_dropoff_distance  jfk_pickup_distance  jfk_dropoff_distance  \\\n",
       "0                   0.166665             0.139243              0.127501   \n",
       "1                   0.094957             0.300959              0.334887   \n",
       "2                   0.051542             0.317614              0.315413   \n",
       "3                   0.058744             0.293883              0.323272   \n",
       "4                   0.119329             0.309714              0.314032   \n",
       "\n",
       "   ewr_pickup_distance  ewr_dropoff_distance  lgr_pickup_distance  \\\n",
       "0             0.362003              0.355663             0.074368   \n",
       "1             0.180259              0.287734             0.204741   \n",
       "2             0.263534              0.244319             0.121466   \n",
       "3             0.231014              0.251521             0.153986   \n",
       "4             0.284915              0.312106             0.100085   \n",
       "\n",
       "   lgr_dropoff_distance  \n",
       "0              0.086110  \n",
       "1              0.121276  \n",
       "2              0.140681  \n",
       "3              0.133479  \n",
       "4              0.100421  "
      ]
     },
     "execution_count": 8,
     "metadata": {},
     "output_type": "execute_result"
    }
   ],
   "source": [
    "# Drop unwanted columns\n",
    "dropped_columns = ['pickup_longitude', 'pickup_latitude', \n",
    "                   'dropoff_longitude', 'dropoff_latitude']\n",
    "train_clean = train.drop(dropped_columns, axis=1)\n",
    "test_clean = test.drop(dropped_columns + ['key', 'passenger_count'], axis=1)\n",
    "\n",
    "# peek data\n",
    "train_clean.head(5)"
   ]
  },
  {
   "cell_type": "markdown",
   "metadata": {
    "_uuid": "736872d7fb45a0b3e7532db4da69da29ac4761fd"
   },
   "source": [
    "#### Split data in train and validation (90% ~ 10%)"
   ]
  },
  {
   "cell_type": "code",
   "execution_count": 9,
   "metadata": {
    "_uuid": "ea58d88d113808dc224e176db2bc37f6c93e08db"
   },
   "outputs": [],
   "source": [
    "train_df, validation_df = train_test_split(train_clean, test_size=0.10, random_state=1)\n",
    "\n",
    "# Get labels\n",
    "train_labels = train_df['fare_amount'].values\n",
    "validation_labels = validation_df['fare_amount'].values\n",
    "train_df = train_df.drop(['fare_amount'], axis=1)\n",
    "validation_df = validation_df.drop(['fare_amount'], axis=1)"
   ]
  },
  {
   "cell_type": "code",
   "execution_count": 10,
   "metadata": {
    "_uuid": "9500aaf4067e9c953d045421f767e8a536a0efad"
   },
   "outputs": [],
   "source": [
    "# Scale data\n",
    "# Note: im doing this here with sklearn scaler but, on the Coursera code the scaling is done with Dataflow and Tensorflow\n",
    "scaler = preprocessing.MinMaxScaler()\n",
    "train_df_scaled = scaler.fit_transform(train_df)\n",
    "validation_df_scaled = scaler.transform(validation_df)\n",
    "test_scaled = scaler.transform(test_clean)"
   ]
  },
  {
   "cell_type": "markdown",
   "metadata": {
    "_uuid": "0ccc5e6695f687e26444532b1c53849e894222ad"
   },
   "source": [
    "### Model"
   ]
  },
  {
   "cell_type": "code",
   "execution_count": 11,
   "metadata": {
    "_kg_hide-output": true,
    "_uuid": "8dd2826039f92c6d46fde06c9c030ff76bb5933f",
    "scrolled": false
   },
   "outputs": [],
   "source": [
    "model = Sequential()\n",
    "model.add(Dense(256, activation='relu', input_dim=train_df_scaled.shape[1], activity_regularizer=regularizers.l1(0.01)))\n",
    "model.add(BatchNormalization())\n",
    "model.add(Dense(128, activation='relu'))\n",
    "model.add(BatchNormalization())\n",
    "model.add(Dense(64, activation='relu'))\n",
    "model.add(BatchNormalization())\n",
    "model.add(Dense(32, activation='relu'))\n",
    "model.add(BatchNormalization())\n",
    "model.add(Dense(8, activation='relu'))\n",
    "model.add(BatchNormalization())\n",
    "model.add(Dense(1))\n",
    "\n",
    "adam = optimizers.adam(lr=LEARNING_RATE)\n",
    "model.compile(loss='mse', optimizer=adam, metrics=['mae'])"
   ]
  },
  {
   "cell_type": "markdown",
   "metadata": {
    "_uuid": "bfe2b169b769e5e887523c4b5b00b8320599ffb3"
   },
   "source": [
    "### Model parameters"
   ]
  },
  {
   "cell_type": "code",
   "execution_count": 12,
   "metadata": {
    "_kg_hide-input": true,
    "_uuid": "b8ba37654ff52b8d7d615090ba5fa60c85f322cf"
   },
   "outputs": [
    {
     "name": "stdout",
     "output_type": "stream",
     "text": [
      "Dataset size: 6000000\n",
      "Epochs: 50\n",
      "Learning rate: 0.001\n",
      "Batch size: 256\n",
      "Input dimension: 19\n",
      "Features used: Index(['year', 'month', 'day', 'hour', 'weekday', 'night', 'late_night',\n",
      "       'latdiff', 'londiff', 'euclidean', 'manhattan',\n",
      "       'downtown_pickup_distance', 'downtown_dropoff_distance',\n",
      "       'jfk_pickup_distance', 'jfk_dropoff_distance', 'ewr_pickup_distance',\n",
      "       'ewr_dropoff_distance', 'lgr_pickup_distance', 'lgr_dropoff_distance'],\n",
      "      dtype='object')\n"
     ]
    }
   ],
   "source": [
    "print('Dataset size: %s' % DATASET_SIZE)\n",
    "print('Epochs: %s' % EPOCHS)\n",
    "print('Learning rate: %s' % LEARNING_RATE)\n",
    "print('Batch size: %s' % BATCH_SIZE)\n",
    "print('Input dimension: %s' % train_df_scaled.shape[1])\n",
    "print('Features used: %s' % train_df.columns)"
   ]
  },
  {
   "cell_type": "code",
   "execution_count": 13,
   "metadata": {
    "_uuid": "25f481043932ddb2e57a0b7199bcb42d4a11c44e"
   },
   "outputs": [
    {
     "name": "stdout",
     "output_type": "stream",
     "text": [
      "_________________________________________________________________\n",
      "Layer (type)                 Output Shape              Param #   \n",
      "=================================================================\n",
      "dense_1 (Dense)              (None, 256)               5120      \n",
      "_________________________________________________________________\n",
      "batch_normalization_1 (Batch (None, 256)               1024      \n",
      "_________________________________________________________________\n",
      "dense_2 (Dense)              (None, 128)               32896     \n",
      "_________________________________________________________________\n",
      "batch_normalization_2 (Batch (None, 128)               512       \n",
      "_________________________________________________________________\n",
      "dense_3 (Dense)              (None, 64)                8256      \n",
      "_________________________________________________________________\n",
      "batch_normalization_3 (Batch (None, 64)                256       \n",
      "_________________________________________________________________\n",
      "dense_4 (Dense)              (None, 32)                2080      \n",
      "_________________________________________________________________\n",
      "batch_normalization_4 (Batch (None, 32)                128       \n",
      "_________________________________________________________________\n",
      "dense_5 (Dense)              (None, 8)                 264       \n",
      "_________________________________________________________________\n",
      "batch_normalization_5 (Batch (None, 8)                 32        \n",
      "_________________________________________________________________\n",
      "dense_6 (Dense)              (None, 1)                 9         \n",
      "=================================================================\n",
      "Total params: 50,577\n",
      "Trainable params: 49,601\n",
      "Non-trainable params: 976\n",
      "_________________________________________________________________\n"
     ]
    }
   ],
   "source": [
    "model.summary()"
   ]
  },
  {
   "cell_type": "markdown",
   "metadata": {
    "_uuid": "14ddb39832ed9661b987abaed3a3a0d4397a1fe2"
   },
   "source": [
    "### Train model"
   ]
  },
  {
   "cell_type": "code",
   "execution_count": 14,
   "metadata": {
    "_uuid": "e0d16fe6d7fcc97e819e2c1168c38565ef34267e"
   },
   "outputs": [
    {
     "name": "stdout",
     "output_type": "stream",
     "text": [
      "Train on 5225686 samples, validate on 580632 samples\n",
      "Epoch 1/50\n",
      "5225686/5225686 [==============================] - 272s 52us/step - loss: 19.5504 - mean_absolute_error: 2.2813 - val_loss: 32.7090 - val_mean_absolute_error: 4.2261\n",
      "Epoch 2/50\n",
      "5225686/5225686 [==============================] - 135s 26us/step - loss: 15.4867 - mean_absolute_error: 1.9898 - val_loss: 17.7139 - val_mean_absolute_error: 2.5407\n",
      "Epoch 3/50\n",
      "5225686/5225686 [==============================] - 135s 26us/step - loss: 15.3133 - mean_absolute_error: 1.9768 - val_loss: 19.9614 - val_mean_absolute_error: 2.7708\n",
      "Epoch 4/50\n",
      "5225686/5225686 [==============================] - 135s 26us/step - loss: 15.1734 - mean_absolute_error: 1.9664 - val_loss: 19.2163 - val_mean_absolute_error: 2.4442\n",
      "Epoch 5/50\n",
      "5225686/5225686 [==============================] - 135s 26us/step - loss: 15.1240 - mean_absolute_error: 1.9619 - val_loss: 48.4163 - val_mean_absolute_error: 5.7449\n",
      "Epoch 6/50\n",
      "5225686/5225686 [==============================] - 135s 26us/step - loss: 15.0794 - mean_absolute_error: 1.9622 - val_loss: 16.9796 - val_mean_absolute_error: 2.3662\n",
      "Epoch 7/50\n",
      "5225686/5225686 [==============================] - 136s 26us/step - loss: 15.0082 - mean_absolute_error: 1.9551 - val_loss: 21.6056 - val_mean_absolute_error: 3.2413\n",
      "Epoch 8/50\n",
      "5225686/5225686 [==============================] - 136s 26us/step - loss: 14.9903 - mean_absolute_error: 1.9513 - val_loss: 32.6251 - val_mean_absolute_error: 4.2325\n",
      "Epoch 9/50\n",
      "5225686/5225686 [==============================] - 136s 26us/step - loss: 14.9216 - mean_absolute_error: 1.9487 - val_loss: 23.7008 - val_mean_absolute_error: 2.2247\n",
      "Epoch 10/50\n",
      "5225686/5225686 [==============================] - 136s 26us/step - loss: 14.9687 - mean_absolute_error: 1.9604 - val_loss: 41.1699 - val_mean_absolute_error: 1.9859\n",
      "Epoch 11/50\n",
      "5225686/5225686 [==============================] - 136s 26us/step - loss: 14.9609 - mean_absolute_error: 1.9576 - val_loss: 32.6806 - val_mean_absolute_error: 2.6152\n",
      "Epoch 12/50\n",
      "5225686/5225686 [==============================] - 137s 26us/step - loss: 14.9257 - mean_absolute_error: 1.9565 - val_loss: 31.3966 - val_mean_absolute_error: 2.2340\n",
      "Epoch 13/50\n",
      "5225686/5225686 [==============================] - 137s 26us/step - loss: 14.9203 - mean_absolute_error: 1.9557 - val_loss: 54.5533 - val_mean_absolute_error: 5.2135\n",
      "Epoch 14/50\n",
      "5225686/5225686 [==============================] - 138s 26us/step - loss: 14.9078 - mean_absolute_error: 1.9575 - val_loss: 81.2215 - val_mean_absolute_error: 2.0698\n",
      "Epoch 15/50\n",
      "5225686/5225686 [==============================] - 137s 26us/step - loss: 14.8960 - mean_absolute_error: 1.9541 - val_loss: 57.2896 - val_mean_absolute_error: 1.9761\n",
      "Epoch 16/50\n",
      "5225686/5225686 [==============================] - 136s 26us/step - loss: 14.8993 - mean_absolute_error: 1.9536 - val_loss: 110.5080 - val_mean_absolute_error: 3.1435\n",
      "Epoch 17/50\n",
      "5225686/5225686 [==============================] - 137s 26us/step - loss: 14.8855 - mean_absolute_error: 1.9504 - val_loss: 56.6832 - val_mean_absolute_error: 2.7092\n",
      "Epoch 18/50\n",
      "5225686/5225686 [==============================] - 137s 26us/step - loss: 14.8723 - mean_absolute_error: 1.9516 - val_loss: 47.5202 - val_mean_absolute_error: 2.1286\n",
      "Epoch 19/50\n",
      "5225686/5225686 [==============================] - 137s 26us/step - loss: 14.8599 - mean_absolute_error: 1.9507 - val_loss: 74.7433 - val_mean_absolute_error: 2.0074\n",
      "Epoch 20/50\n",
      "5225686/5225686 [==============================] - 136s 26us/step - loss: 14.8313 - mean_absolute_error: 1.9490 - val_loss: 73.6651 - val_mean_absolute_error: 2.5299\n",
      "Epoch 21/50\n",
      "5225686/5225686 [==============================] - 137s 26us/step - loss: 14.8251 - mean_absolute_error: 1.9491 - val_loss: 63.5536 - val_mean_absolute_error: 2.0533\n",
      "Epoch 22/50\n",
      "5225686/5225686 [==============================] - 138s 26us/step - loss: 14.8520 - mean_absolute_error: 1.9523 - val_loss: 27.0806 - val_mean_absolute_error: 3.3294\n",
      "Epoch 23/50\n",
      "5225686/5225686 [==============================] - 141s 27us/step - loss: 14.8156 - mean_absolute_error: 1.9474 - val_loss: 24.1013 - val_mean_absolute_error: 2.4130\n",
      "Epoch 24/50\n",
      "5225686/5225686 [==============================] - 153s 29us/step - loss: 14.9599 - mean_absolute_error: 1.9649 - val_loss: 17.3851 - val_mean_absolute_error: 2.5770\n",
      "Epoch 25/50\n",
      "5225686/5225686 [==============================] - 145s 28us/step - loss: 15.1032 - mean_absolute_error: 1.9841 - val_loss: 18.8739 - val_mean_absolute_error: 2.3613\n",
      "Epoch 26/50\n",
      "5225686/5225686 [==============================] - 134s 26us/step - loss: 15.0428 - mean_absolute_error: 1.9778 - val_loss: 43904.8014 - val_mean_absolute_error: 4.1527\n",
      "Epoch 27/50\n",
      "5225686/5225686 [==============================] - 131s 25us/step - loss: 15.0384 - mean_absolute_error: 1.9786 - val_loss: 90822.7895 - val_mean_absolute_error: 5.7274\n",
      "Epoch 28/50\n",
      "5225686/5225686 [==============================] - 131s 25us/step - loss: 15.0400 - mean_absolute_error: 1.9785 - val_loss: 3621.0438 - val_mean_absolute_error: 3.9092\n",
      "Epoch 29/50\n",
      "5225686/5225686 [==============================] - 131s 25us/step - loss: 15.0202 - mean_absolute_error: 1.9770 - val_loss: 2761.6577 - val_mean_absolute_error: 2.6887\n",
      "Epoch 30/50\n",
      "5225686/5225686 [==============================] - 135s 26us/step - loss: 14.9995 - mean_absolute_error: 1.9748 - val_loss: 978.4052 - val_mean_absolute_error: 5.5415\n",
      "Epoch 31/50\n",
      "5225686/5225686 [==============================] - 139s 27us/step - loss: 15.0078 - mean_absolute_error: 1.9735 - val_loss: 3140.0539 - val_mean_absolute_error: 2.9199\n",
      "Epoch 32/50\n",
      "5225686/5225686 [==============================] - 138s 26us/step - loss: 14.9753 - mean_absolute_error: 1.9745 - val_loss: 1218.6786 - val_mean_absolute_error: 2.7655\n",
      "Epoch 33/50\n",
      "5225686/5225686 [==============================] - 138s 27us/step - loss: 14.9766 - mean_absolute_error: 1.9763 - val_loss: 27.8038 - val_mean_absolute_error: 2.0206\n",
      "Epoch 34/50\n",
      "5225686/5225686 [==============================] - 139s 27us/step - loss: 14.9940 - mean_absolute_error: 1.9746 - val_loss: 18.5135 - val_mean_absolute_error: 2.8052\n",
      "Epoch 35/50\n",
      "5225686/5225686 [==============================] - 139s 27us/step - loss: 14.9734 - mean_absolute_error: 1.9726 - val_loss: 18.2272 - val_mean_absolute_error: 1.8962\n",
      "Epoch 36/50\n",
      "5225686/5225686 [==============================] - 139s 27us/step - loss: 14.9730 - mean_absolute_error: 1.9757 - val_loss: 29.1197 - val_mean_absolute_error: 2.5662\n",
      "Epoch 37/50\n",
      "5225686/5225686 [==============================] - 138s 26us/step - loss: 14.9243 - mean_absolute_error: 1.9733 - val_loss: 448.8450 - val_mean_absolute_error: 3.8320\n",
      "Epoch 38/50\n",
      "5225686/5225686 [==============================] - 138s 26us/step - loss: 14.9254 - mean_absolute_error: 1.9714 - val_loss: 202.1309 - val_mean_absolute_error: 2.9375\n",
      "Epoch 39/50\n",
      "5225686/5225686 [==============================] - 139s 27us/step - loss: 14.9245 - mean_absolute_error: 1.9711 - val_loss: 80.6294 - val_mean_absolute_error: 2.6008\n",
      "Epoch 40/50\n",
      "5225686/5225686 [==============================] - 139s 27us/step - loss: 14.9130 - mean_absolute_error: 1.9717 - val_loss: 131.3401 - val_mean_absolute_error: 2.7498\n",
      "Epoch 41/50\n",
      "5225686/5225686 [==============================] - 139s 27us/step - loss: 14.8813 - mean_absolute_error: 1.9695 - val_loss: 113.5112 - val_mean_absolute_error: 2.7413\n",
      "Epoch 42/50\n",
      "5225686/5225686 [==============================] - 139s 27us/step - loss: 14.9026 - mean_absolute_error: 1.9695 - val_loss: 5539.6959 - val_mean_absolute_error: 3.0191\n",
      "Epoch 43/50\n",
      "5225686/5225686 [==============================] - 139s 27us/step - loss: 14.8968 - mean_absolute_error: 1.9694 - val_loss: 1645.9142 - val_mean_absolute_error: 2.7833\n",
      "Epoch 44/50\n",
      "5225686/5225686 [==============================] - 138s 26us/step - loss: 14.8824 - mean_absolute_error: 1.9705 - val_loss: 20631.4848 - val_mean_absolute_error: 3.3865\n",
      "Epoch 45/50\n",
      "5225686/5225686 [==============================] - 139s 27us/step - loss: 14.8621 - mean_absolute_error: 1.9682 - val_loss: 11906.4516 - val_mean_absolute_error: 3.7129\n",
      "Epoch 46/50\n"
     ]
    },
    {
     "name": "stdout",
     "output_type": "stream",
     "text": [
      "5225686/5225686 [==============================] - 134s 26us/step - loss: 14.9026 - mean_absolute_error: 1.9705 - val_loss: 15483.3974 - val_mean_absolute_error: 3.5598\n",
      "Epoch 47/50\n",
      "5225686/5225686 [==============================] - 136s 26us/step - loss: 14.9183 - mean_absolute_error: 1.9717 - val_loss: 2351.7901 - val_mean_absolute_error: 2.4908\n",
      "Epoch 48/50\n",
      "5225686/5225686 [==============================] - 136s 26us/step - loss: 14.8899 - mean_absolute_error: 1.9697 - val_loss: 2211.8700 - val_mean_absolute_error: 2.4458\n",
      "Epoch 49/50\n",
      "5225686/5225686 [==============================] - 138s 26us/step - loss: 14.8609 - mean_absolute_error: 1.9680 - val_loss: 1144.0855 - val_mean_absolute_error: 2.2129\n",
      "Epoch 50/50\n",
      "5225686/5225686 [==============================] - 134s 26us/step - loss: 14.8876 - mean_absolute_error: 1.9715 - val_loss: 5416.6674 - val_mean_absolute_error: 2.4512\n"
     ]
    }
   ],
   "source": [
    "history = model.fit(x=train_df_scaled, y=train_labels, batch_size=BATCH_SIZE, epochs=EPOCHS, \n",
    "                    verbose=1, validation_data=(validation_df_scaled, validation_labels), \n",
    "                    shuffle=True)"
   ]
  },
  {
   "cell_type": "markdown",
   "metadata": {
    "_uuid": "034ee7cc55876cb8fbb4d030b988074b68ff5c97"
   },
   "source": [
    "### Plot metrics"
   ]
  },
  {
   "cell_type": "code",
   "execution_count": 15,
   "metadata": {
    "_uuid": "bba904fee24ae03e106a55e77ba6e43943c35b9a"
   },
   "outputs": [
    {
     "data": {
      "image/png": "[encoded data removed]",
      "text/plain": [
       "<Figure size 1440x720 with 1 Axes>"
      ]
     },
     "metadata": {},
     "output_type": "display_data"
    }
   ],
   "source": [
    "plot_loss_accuracy(history)"
   ]
  },
  {
   "cell_type": "code",
   "execution_count": 16,
   "metadata": {
    "_uuid": "bb1f3931f926c01a966f17940fc134f1800ca39c"
   },
   "outputs": [
    {
     "name": "stdout",
     "output_type": "stream",
     "text": [
      "9914/9914 [==============================] - 0s 20us/step\n"
     ]
    }
   ],
   "source": [
    "# Make prediction\n",
    "prediction = model.predict(test_scaled, batch_size=128, verbose=1)"
   ]
  },
  {
   "cell_type": "code",
   "execution_count": 17,
   "metadata": {
    "_uuid": "faca9351377875f0dbfc36306c5470d3e95e313c"
   },
   "outputs": [
    {
     "name": "stdout",
     "output_type": "stream",
     "text": [
      "Output complete\n"
     ]
    }
   ],
   "source": [
    "# output prediction\n",
    "output_submission(test, prediction, 'key', 'fare_amount', SUBMISSION_NAME)"
   ]
  },
  {
   "cell_type": "code",
   "execution_count": null,
   "metadata": {},
   "outputs": [],
   "source": []
  }
 ],
 "metadata": {
  "kernelspec": {
   "display_name": "Python 3",
   "language": "python",
   "name": "python3"
  },
  "language_info": {
   "codemirror_mode": {
    "name": "ipython",
    "version": 3
   },
   "file_extension": ".py",
   "mimetype": "text/x-python",
   "name": "python",
   "nbconvert_exporter": "python",
   "pygments_lexer": "ipython3",
   "version": "3.6.5"
  }
 },
 "nbformat": 4,
 "nbformat_minor": 1
}
